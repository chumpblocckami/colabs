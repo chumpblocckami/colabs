{
  "nbformat": 4,
  "nbformat_minor": 0,
  "metadata": {
    "colab": {
      "name": "ToTheMoon.ipynb",
      "provenance": [],
      "collapsed_sections": [
        "p0Fl1snXdZk4",
        "ZL5mlYH1ZYuM"
      ],
      "authorship_tag": "ABX9TyP2hngQH0YCH9Kr/h2ufbl1",
      "include_colab_link": true
    },
    "kernelspec": {
      "name": "python3",
      "display_name": "Python 3"
    },
    "language_info": {
      "name": "python"
    }
  },
  "cells": [
    {
      "cell_type": "markdown",
      "metadata": {
        "id": "view-in-github",
        "colab_type": "text"
      },
      "source": [
        "<a href=\"https://colab.research.google.com/github/chumpblocckami/colabs/blob/main/CryptoTwitterAnalysis.ipynb\" target=\"_parent\"><img src=\"https://colab.research.google.com/assets/colab-badge.svg\" alt=\"Open In Colab\"/></a>"
      ]
    },
    {
      "cell_type": "markdown",
      "metadata": {
        "id": "yye6y2brZ2T_"
      },
      "source": [
        "## GET TWEETS, COMPUTE SENTIMENT AND VISUALIZE RESULTS\n",
        "- Phase one\n",
        "1. Get tweets by @elon_musk\n",
        "2. Get sentiment \n",
        "3. Visualize sentiment\n",
        "- Phase two\n",
        "1. Get replies and comments from @elon_musk tweets\n",
        "2. Get sentiment\n",
        "3. Visualize sentiment\n",
        "4. Detect Stance\n",
        "- Phase three\n",
        "1. Get trading history data (bitcoin,dogecoin,...)\n",
        "2. Create model that take in consideration data from tweets\n",
        "3. Create trading bot (LR)\n",
        "- Phase four \n",
        "1. Profit"
      ]
    },
    {
      "cell_type": "markdown",
      "metadata": {
        "id": "p0Fl1snXdZk4"
      },
      "source": [
        "##Phase 1\n",
        "Get tweets"
      ]
    },
    {
      "cell_type": "code",
      "metadata": {
        "id": "_mWnmyI78Cct"
      },
      "source": [
        "#TWINT\n",
        "!pip install nest_asyncio\n",
        "!pip install --upgrade -e git+https://github.com/twintproject/twint.git@origin/master#egg=twint\n",
        "\n",
        "#NLP\n",
        "!pip install transformers"
      ],
      "execution_count": null,
      "outputs": []
    },
    {
      "cell_type": "code",
      "metadata": {
        "id": "HvQ0PzO267uv"
      },
      "source": [
        "import twint\n",
        "import nest_asyncio\n",
        "nest_asyncio.apply()\n",
        "\n",
        "tweets = []\n",
        "\n",
        "# Configure\n",
        "c = twint.Config()\n",
        "c.Username = \"elonmusk\"\n",
        "c.Limit = 100\n",
        "c.User_full = True\n",
        "c.Store_object = True\n",
        "c.Store_object_tweets_list = tweets\n",
        "\n",
        "# Run\n",
        "twint.run.Search(c)"
      ],
      "execution_count": null,
      "outputs": []
    },
    {
      "cell_type": "markdown",
      "metadata": {
        "id": "guM6NQESczeC"
      },
      "source": [
        "\n",
        "Inspect which attributes we get from twint"
      ]
    },
    {
      "cell_type": "code",
      "metadata": {
        "colab": {
          "base_uri": "https://localhost:8080/"
        },
        "id": "UL2YE2lDTX7v",
        "outputId": "4561c7ed-f8cc-4408-831b-72d1834a375b"
      },
      "source": [
        "attributes = [print(x) for x in dir(tweets[0]) if \"_\" not in x]"
      ],
      "execution_count": null,
      "outputs": [
        {
          "output_type": "stream",
          "text": [
            "cashtags\n",
            "datestamp\n",
            "datetime\n",
            "geo\n",
            "hashtags\n",
            "id\n",
            "lang\n",
            "link\n",
            "mentions\n",
            "name\n",
            "near\n",
            "photos\n",
            "place\n",
            "retweet\n",
            "source\n",
            "thumbnail\n",
            "timestamp\n",
            "timezone\n",
            "translate\n",
            "tweet\n",
            "type\n",
            "urls\n",
            "username\n",
            "video\n"
          ],
          "name": "stdout"
        }
      ]
    },
    {
      "cell_type": "code",
      "metadata": {
        "colab": {
          "base_uri": "https://localhost:8080/"
        },
        "id": "GTaECeIee1PX",
        "outputId": "fbe77cda-3488-4646-b5ef-89191f80af08"
      },
      "source": [
        "tweets[0].retweet"
      ],
      "execution_count": null,
      "outputs": [
        {
          "output_type": "execute_result",
          "data": {
            "text/plain": [
              "False"
            ]
          },
          "metadata": {
            "tags": []
          },
          "execution_count": 212
        }
      ]
    },
    {
      "cell_type": "markdown",
      "metadata": {
        "id": "phJYwfsWdia1"
      },
      "source": [
        "Get sentiment"
      ]
    },
    {
      "cell_type": "code",
      "metadata": {
        "id": "Jp33NXIN6746"
      },
      "source": [
        "from transformers import pipeline\n",
        "from tqdm import tqdm \n",
        "\n",
        "model = pipeline('sentiment-analysis')\n",
        "results = model([t.tweet for t in tqdm(tweets)])"
      ],
      "execution_count": null,
      "outputs": []
    },
    {
      "cell_type": "code",
      "metadata": {
        "id": "xDy1svs3Em7K"
      },
      "source": [
        "import pandas as pd\n",
        "import datetime as dt\n",
        "\n",
        "data = pd.DataFrame([(t.datetime,t.tweet) for t in tweets],columns=[\"time\",\"text\"])\n",
        "\n",
        "data[\"time\"] = data[\"time\"].apply(lambda x : dt.datetime.strptime(x.replace(\" UTC\",\"\"),'%Y-%m-%d %H:%M:%S'))\n",
        "data[\"time\"] = data[\"time\"].astype(\"datetime64\")\n",
        "data[\"time\"] = data.time.dt.round('D')\n",
        "\n",
        "data[\"sentiment\"] = [pred[\"label\"] if pred[\"score\"]>0.7 else \"NEUTRAL\" for pred in results]"
      ],
      "execution_count": null,
      "outputs": []
    },
    {
      "cell_type": "code",
      "metadata": {
        "colab": {
          "base_uri": "https://localhost:8080/",
          "height": 204
        },
        "id": "04SA0wI1JDce",
        "outputId": "e8d67250-d484-44f8-ee17-c6e9071eefe9"
      },
      "source": [
        "to_plot = data[\"time\"].groupby([data[\"time\"],data[\"sentiment\"]]).size().unstack(fill_value=0).reset_index()\n",
        "to_plot.head()"
      ],
      "execution_count": null,
      "outputs": [
        {
          "output_type": "execute_result",
          "data": {
            "text/html": [
              "<div>\n",
              "<style scoped>\n",
              "    .dataframe tbody tr th:only-of-type {\n",
              "        vertical-align: middle;\n",
              "    }\n",
              "\n",
              "    .dataframe tbody tr th {\n",
              "        vertical-align: top;\n",
              "    }\n",
              "\n",
              "    .dataframe thead th {\n",
              "        text-align: right;\n",
              "    }\n",
              "</style>\n",
              "<table border=\"1\" class=\"dataframe\">\n",
              "  <thead>\n",
              "    <tr style=\"text-align: right;\">\n",
              "      <th>sentiment</th>\n",
              "      <th>time</th>\n",
              "      <th>NEGATIVE</th>\n",
              "      <th>NEUTRAL</th>\n",
              "      <th>POSITIVE</th>\n",
              "    </tr>\n",
              "  </thead>\n",
              "  <tbody>\n",
              "    <tr>\n",
              "      <th>0</th>\n",
              "      <td>2021-07-27</td>\n",
              "      <td>3</td>\n",
              "      <td>3</td>\n",
              "      <td>2</td>\n",
              "    </tr>\n",
              "    <tr>\n",
              "      <th>1</th>\n",
              "      <td>2021-07-28</td>\n",
              "      <td>3</td>\n",
              "      <td>0</td>\n",
              "      <td>3</td>\n",
              "    </tr>\n",
              "    <tr>\n",
              "      <th>2</th>\n",
              "      <td>2021-07-29</td>\n",
              "      <td>5</td>\n",
              "      <td>1</td>\n",
              "      <td>6</td>\n",
              "    </tr>\n",
              "    <tr>\n",
              "      <th>3</th>\n",
              "      <td>2021-07-30</td>\n",
              "      <td>11</td>\n",
              "      <td>1</td>\n",
              "      <td>10</td>\n",
              "    </tr>\n",
              "    <tr>\n",
              "      <th>4</th>\n",
              "      <td>2021-07-31</td>\n",
              "      <td>14</td>\n",
              "      <td>1</td>\n",
              "      <td>7</td>\n",
              "    </tr>\n",
              "  </tbody>\n",
              "</table>\n",
              "</div>"
            ],
            "text/plain": [
              "sentiment       time  NEGATIVE  NEUTRAL  POSITIVE\n",
              "0         2021-07-27         3        3         2\n",
              "1         2021-07-28         3        0         3\n",
              "2         2021-07-29         5        1         6\n",
              "3         2021-07-30        11        1        10\n",
              "4         2021-07-31        14        1         7"
            ]
          },
          "metadata": {
            "tags": []
          },
          "execution_count": 187
        }
      ]
    },
    {
      "cell_type": "markdown",
      "metadata": {
        "id": "7blX4jALdkz_"
      },
      "source": [
        "Visualize sentiment"
      ]
    },
    {
      "cell_type": "code",
      "metadata": {
        "colab": {
          "base_uri": "https://localhost:8080/",
          "height": 507
        },
        "id": "9J17EXeOIN4d",
        "outputId": "26851955-110c-42b8-cec3-85d4e7b71349"
      },
      "source": [
        "import seaborn as sns\n",
        "import matplotlib.pyplot as plt\n",
        "\n",
        "sns.set_theme(style=\"whitegrid\")\n",
        "\n",
        "fig,ax = plt.subplots(dpi=128)\n",
        "\n",
        "sns.scatterplot(x=\"time\", y=\"NEGATIVE\",color=\"red\",data=to_plot, size=3, legend=False, ax=ax)\n",
        "sns.lineplot(x=\"time\", y=\"NEGATIVE\", color=\"red\", data=to_plot, ax=ax)\n",
        "\n",
        "\n",
        "sns.scatterplot(x=\"time\", y=\"POSITIVE\",color=\"green\",data=to_plot, size=3, legend=False, ax=ax)\n",
        "sns.lineplot(x=\"time\", y=\"POSITIVE\", color=\"green\", data=to_plot, ax=ax)\n",
        "\n",
        "sns.scatterplot(x=\"time\", y=\"NEUTRAL\",color=\"gray\",data=to_plot, size=3, legend=False, ax=ax)\n",
        "sns.lineplot(x=\"time\", y=\"NEUTRAL\", color=\"gray\", data=to_plot, ax=ax)\n",
        "\n",
        "ax.set_title(\"ELON MUSK TWEETS\",size=12)\n",
        "ax.set_ylabel(\"TWEETS COUNT\",size=10);\n",
        "ax.set_xlabel(\"DAYS\",size=10);\n",
        "\n",
        "plt.yticks(rotation=0, ha='right',size=6);\n",
        "plt.xticks(rotation=0, ha='right',size=6);"
      ],
      "execution_count": null,
      "outputs": [
        {
          "output_type": "display_data",
          "data": {
            "image/png": "[encoded data removed]",
            "text/plain": [
              "<Figure size 768x512 with 1 Axes>"
            ]
          },
          "metadata": {
            "tags": []
          }
        }
      ]
    },
    {
      "cell_type": "code",
      "metadata": {
        "id": "BVEi8yksWwzd"
      },
      "source": [
        "from transformers import pipeline\n",
        "import seaborn as sns\n",
        "import matplotlib.pyplot as plt\n",
        "from transformers import pipeline\n",
        "from tqdm import tqdm \n",
        "import pandas as pd\n",
        "import datetime as dt\n",
        "import twint\n",
        "\n",
        "#THIS ONLY IF WE'RE ON GOOGLE COLAB\n",
        "import nest_asyncio\n",
        "nest_asyncio.apply()\n",
        "\n",
        "class Tweeeter():\n",
        "  def __init__(user):\n",
        "    \n",
        "    self.user = user\n",
        "    self.tweets = []\n",
        "    self.dataset = []\n",
        "    self.predictions = []\n",
        "    \n",
        "    self.model = pipeline('sentiment-analysis')\n",
        "\n",
        "    self.configurations = None\n",
        "    self.load_env()\n",
        "\n",
        "  def load_env(self):\n",
        "    self.configurations = twint.Config()\n",
        "    self.configurations.Username = self.user\n",
        "    self.configurations.Limit = 100\n",
        "    self.configurations.User_full = True\n",
        "    self.configurations.Store_object = True\n",
        "    self.configurations.Store_object_tweets_list = self.tweets\n",
        "\n",
        "  def fit():\n",
        "    #GET TWEETS\n",
        "    twint.run.Search(self.configurations)\n",
        "\n",
        "    #COMPUTE PREDICTIONS\n",
        "    self.predictions = model([t.tweet for t in tqdm(self.tweets)])\n",
        "\n",
        "    #CREATE THE DATASET\n",
        "    self.dataset = pd.DataFrame([(t.datetime,t.tweet) for t in self.tweets],columns=[\"time\",\"text\"])\n",
        "    self.dataset[\"time\"] = self.dataset[\"time\"].apply(lambda x : dt.datetime.strptime(x.replace(\" UTC\",\"\"),'%Y-%m-%d %H:%M:%S')).astype(\"datetime64\").dt.round('D')\n",
        "    self.dataset[\"sentiment\"] = [pred[\"label\"] if pred[\"score\"]>0.7 else \"NEUTRAL\" for pred in self.predictions]\n",
        "\n",
        "  def transform():\n",
        "    #PLOT RESULTS\n",
        "    to_plot = data[\"time\"].groupby([data[\"time\"],data[\"sentiment\"]]).size().unstack(fill_value=0).reset_index()\n",
        "\n",
        "    fig,ax = plt.subplots(dpi=128)\n",
        "\n",
        "    sns.scatterplot(x=\"time\", y=\"NEGATIVE\",color=\"red\",data=to_plot, size=3, legend=False, ax=ax)\n",
        "    sns.lineplot(x=\"time\", y=\"NEGATIVE\", color=\"red\", data=to_plot, ax=ax)\n",
        "\n",
        "\n",
        "    sns.scatterplot(x=\"time\", y=\"POSITIVE\",color=\"green\",data=to_plot, size=3, legend=False, ax=ax)\n",
        "    sns.lineplot(x=\"time\", y=\"POSITIVE\", color=\"green\", data=to_plot, ax=ax)\n",
        "\n",
        "    sns.scatterplot(x=\"time\", y=\"NEUTRAL\",color=\"gray\",data=to_plot, size=3, legend=False, ax=ax)\n",
        "    sns.lineplot(x=\"time\", y=\"NEUTRAL\", color=\"gray\", data=to_plot, ax=ax)\n",
        "\n",
        "    ax.set_title(self.user.upper() + \" TWEETS\",size=12)\n",
        "    ax.set_ylabel(\"TWEETS COUNT\",size=10);\n",
        "    ax.set_xlabel(\"DAYS\",size=10);\n",
        "\n",
        "    plt.yticks(rotation=0, ha='right',size=6);\n",
        "    plt.xticks(rotation=0, ha='right',size=6);"
      ],
      "execution_count": null,
      "outputs": []
    },
    {
      "cell_type": "markdown",
      "metadata": {
        "id": "UUP5qTzBeLBs"
      },
      "source": [
        "#PHASE 2\n",
        "\n",
        "Get comments and replies from elonmusk tweets"
      ]
    },
    {
      "cell_type": "code",
      "metadata": {
        "colab": {
          "base_uri": "https://localhost:8080/",
          "height": 35
        },
        "id": "kdcV5JMseKjo",
        "outputId": "5631de73-7c8b-47ad-9619-b2b5e4002002"
      },
      "source": [
        ""
      ],
      "execution_count": null,
      "outputs": [
        {
          "output_type": "execute_result",
          "data": {
            "application/vnd.google.colaboratory.intrinsic+json": {
              "type": "string"
            },
            "text/plain": [
              "''"
            ]
          },
          "metadata": {
            "tags": []
          },
          "execution_count": 203
        }
      ]
    },
    {
      "cell_type": "markdown",
      "metadata": {
        "id": "So5GbPpWei8V"
      },
      "source": [
        "## PHASE 3\n",
        "\n",
        "Get historic trading api"
      ]
    },
    {
      "cell_type": "code",
      "metadata": {
        "colab": {
          "base_uri": "https://localhost:8080/"
        },
        "id": "Pswf_Vv76791",
        "outputId": "db06121d-70c1-4cf3-8a7d-455472a7f2f5"
      },
      "source": [
        "#YAHOO FINANCE API\n",
        "import requests\n",
        "\"\"\"https://rapidapi.com/apidojo/api/yahoo-finance1\"\"\"\n",
        "\n",
        "url = \"https://apidojo-yahoo-finance-v1.p.rapidapi.com/auto-complete\"\n",
        "\n",
        "querystring = {\"q\":\"tesla\",\"region\":\"US\"}\n",
        "\n",
        "headers = {\n",
        "    'x-rapidapi-key': \"01a1d3ae38mshfa261510a28d48dp166540jsn2a83cd322905\",\n",
        "    'x-rapidapi-host': \"apidojo-yahoo-finance-v1.p.rapidapi.com\"\n",
        "    }\n",
        "\n",
        "response = requests.request(\"GET\", url, headers=headers, params=querystring)\n",
        "\n",
        "print(response.text)"
      ],
      "execution_count": null,
      "outputs": [
        {
          "output_type": "stream",
          "text": [
            "{\"message\":\"You are not subscribed to this API.\"}\n"
          ],
          "name": "stdout"
        }
      ]
    },
    {
      "cell_type": "markdown",
      "metadata": {
        "id": "Tov9d1kAZdEs"
      },
      "source": [
        "# COINMARKETCAP"
      ]
    },
    {
      "cell_type": "code",
      "metadata": {
        "colab": {
          "base_uri": "https://localhost:8080/"
        },
        "id": "bFG3tMDtTphn",
        "outputId": "11bbb3d1-f556-45e9-9858-1b4cd6d5cc35"
      },
      "source": [
        "\n",
        "from requests import Request, Session\n",
        "from requests.exceptions import ConnectionError, Timeout, TooManyRedirects\n",
        "import json\n",
        "\n",
        "url = 'https://pro-api.coinmarketcap.com/v1/cryptocurrency/listings/latest'\n",
        "\n",
        "headers = {\n",
        "  'Accepts': 'application/json',\n",
        "  'X-CMC_PRO_API_KEY': 'a969c5cf-95ef-457d-9adb-a6f7a1229765',\n",
        "}\n",
        "\n",
        "session = Session()\n",
        "session.headers.update(headers)\n",
        "\n",
        "try:\n",
        "  response = session.get(url, params=parameters)\n",
        "  data = json.loads(response.text)\n",
        "except (ConnectionError, Timeout, TooManyRedirects) as e:\n",
        "  print(\"Error loading data\")"
      ],
      "execution_count": null,
      "outputs": [
        {
          "output_type": "stream",
          "text": [
            "IOPub data rate exceeded.\n",
            "The notebook server will temporarily stop sending output\n",
            "to the client in order to avoid crashing it.\n",
            "To change this limit, set the config variable\n",
            "`--NotebookApp.iopub_data_rate_limit`.\n",
            "\n",
            "Current values:\n",
            "NotebookApp.iopub_data_rate_limit=1000000.0 (bytes/sec)\n",
            "NotebookApp.rate_limit_window=3.0 (secs)\n",
            "\n"
          ],
          "name": "stderr"
        }
      ]
    },
    {
      "cell_type": "code",
      "metadata": {
        "id": "YhF0Gb1pZkds"
      },
      "source": [
        "class CoinMarketCap():\n",
        "  \"\"\"\n",
        "    Wrapper for https://coinmarketcap.com/api/documentation/\n",
        "  \"\"\"\n",
        "  def __init__(self,subscription_plan,load_mapping=True):\n",
        "\n",
        "    self.plan = subscription_plan\n",
        "\n",
        "    self.token = None\n",
        "    self.session = Session()\n",
        "    self.headers = {\"Accepts\":'application/json',\"X-CMC_PRO_API_KEY\": None}\n",
        "\n",
        "    self.endpoints = {#free option\n",
        "                      \"mapping\":'https://pro-api.coinmarketcap.com/v1/cryptocurrency/map',\n",
        "                      \"listing\":\"https://pro-api.coinmarketcap.com/v1/cryptocurrency/listings/latest\",\n",
        "                      \"airdrop\":\"https://pro-api.coinmarketcap.com/v1/cryptocurrency/airdrop\", #ID REQUIRED\n",
        "                      \"airdrops\":\"https://pro-api.coinmarketcap.com/v1/cryptocurrency/airdrops\",\n",
        "                      \"categories\":\"https://pro-api.coinmarketcap.com/v1/cryptocurrency/categories\",\n",
        "                       \"category\":\"https://pro-api.coinmarketcap.com/v1/cryptocurrency/category\",#ID REQUIRED\n",
        "                      \"metadata\":\"https://pro-api.coinmarketcap.com//v1/cryptocurrency/info\",\n",
        "\n",
        "                      #paying option\n",
        "                      \"history\":\"https://pro-api.coinmarketcap.com/v1/cryptocurrency/quotes/historical\",\n",
        "                      \"pairs\":\"https://pro-api.coinmarketcap.com/v1/cryptocurrency/market-pairs/latest\",\n",
        "                      \"OHLCV_history\":\"https://pro-api.coinmarketcap.com/v1/cryptocurrency/ohlcv/historical\"\n",
        "                      } \n",
        "\n",
        "    self.enriched_params = {\"listing\":{'start':'1','limit':'5000','convert':'USD'},\n",
        "                            \"airdrops\":{'start':'1','limit':'5000','status':'UPCOMING',\"id\":\"1\"}, #id refers to crypto_id\n",
        "                            \"categories\":{'start':'1','limit':'5000',\"id\":[1,2]},\n",
        "                            \"mapping\":{'start':'1','limit':'5000',\"listing_status\":\"active\"},\n",
        "                            \"OHLCV_history\":{\"id\":'1','interval':'hourly','convert':'USD'}}\n",
        "\n",
        "    self.mappings = self.get_crypto_mapping() if load_mapping is True else {}\n",
        "\n",
        "  def load_token(self, token):\n",
        "    self.token = token\n",
        "    self.load_env()\n",
        "\n",
        "  def load_env(self):\n",
        "    self.headers[\"X-CMC_PRO_API_KEY\"] = self.token\n",
        "    self.session.headers.update(self.headers)\n",
        "  \n",
        "  def get_crypto_mapping(self,inplace=False):\n",
        "    \"\"\"\n",
        "      Get cryptocurrencies mapping in form of name:id\n",
        "      (es. Bitcoin:1)\n",
        "    \"\"\"\n",
        "    url = 'https://pro-api.coinmarketcap.com/v1/cryptocurrency/map'\n",
        "    try:\n",
        "      response = self.session.get(url)\n",
        "      data = json.loads(response.text)\n",
        "      print(data[\"status\"])\n",
        "      mapping = {x[\"name\"]:x[\"id\"] for x in data[\"data\"]}\n",
        "      if inplace:\n",
        "        self.mappings = mapping\n",
        "      return mapping\n",
        "    except (ConnectionError, Timeout, TooManyRedirects) as error:\n",
        "      print(\"Error loading data\",str(error))\n",
        "      return []\n",
        "\n",
        "  def make_request(self,category,parameters={}):\n",
        "    \"\"\"\n",
        "      Query the api based on a specific route. \n",
        "      Routes are friendly encoded in endpoints value.\n",
        "      If and endpoints won't exists, then an error is raised.\n",
        "    \"\"\"\n",
        "    endpoint = self.endpoints[category] if category in self.endpoints.keys() else \"\"\n",
        "    print(endpoint)\n",
        "    try:\n",
        "      if parameters != {}:\n",
        "        response = self.session.get(endpoint)\n",
        "      else:\n",
        "        response = self.session.get(endpoint,params=parameters)\n",
        "      data = json.loads(response.text)\n",
        "      print(data[\"status\"])\n",
        "      return data[\"data\"]\n",
        "    except (ConnectionError, Timeout, TooManyRedirects) as error:\n",
        "      print(\"Error loading data\",str(error))\n",
        "      return []"
      ],
      "execution_count": null,
      "outputs": []
    },
    {
      "cell_type": "code",
      "metadata": {
        "id": "0zR20iItlGf-"
      },
      "source": [
        "coin_market = CoinMarketCap('Free',load_mapping=False)\n",
        "coin_market.load_token('a969c5cf-95ef-457d-9adb-a6f7a1229765')"
      ],
      "execution_count": null,
      "outputs": []
    },
    {
      "cell_type": "code",
      "metadata": {
        "id": "SQhPlMXuleNr"
      },
      "source": [
        "#BEST PRACTICIES:\n",
        "- use ID instead of Cryptocurrency symbol\n",
        "- use cache data (load internally data and update every minutes, instead of a api call at every request)\n",
        "- retry using exponential backoff and use robust JSON parsing"
      ],
      "execution_count": null,
      "outputs": []
    },
    {
      "cell_type": "markdown",
      "metadata": {
        "id": "ZL5mlYH1ZYuM"
      },
      "source": [
        "# COINAPI"
      ]
    },
    {
      "cell_type": "code",
      "metadata": {
        "id": "Ffo75xmYX4HC"
      },
      "source": [
        "!pip install --upgrade coinapi_rest_v1"
      ],
      "execution_count": null,
      "outputs": []
    },
    {
      "cell_type": "code",
      "metadata": {
        "id": "aXSHZnhHX8m9"
      },
      "source": [
        "from coinapi_rest_v1.restapi import CoinAPIv1\n",
        "import datetime, sys\n",
        "\n",
        "TOKEN = \"1ACCA8F5-C26B-419E-9017-1DB48A16842A\"\n",
        "\n",
        "api = CoinAPIv1(TOKEN)\n",
        "\n",
        "exchanges = api.metadata_list_exchanges()\n",
        "print('Exchanges')\n",
        "for exchange in exchanges:\n",
        "    print('Exchange ID: %s' % exchange['exchange_id'])\n",
        "    print('Exchange website: %s' % exchange['website'])\n",
        "    print('Exchange name: %s' % exchange['name'])\n",
        "\n",
        "assets = api.metadata_list_assets()\n",
        "print('Assets')\n",
        "for asset in assets:\n",
        "    print('Asset ID: %s' % asset['asset_id'])\n",
        "    try:\n",
        "        print('Asset name: %s' % asset['name'])\n",
        "    except KeyError:\n",
        "        print('Can not find name')\n",
        "    print('Asset type (crypto?): %s' % asset['type_is_crypto'])\n",
        "\n",
        "symbols = api.metadata_list_symbols()\n",
        "print('Symbols')\n",
        "for symbol in symbols:\n",
        "    print('Symbol ID: %s' % symbol['symbol_id'])\n",
        "    print('Exchange ID: %s' % symbol['exchange_id'])\n",
        "    print('Symbol type: %s' % symbol['symbol_type'])\n",
        "    try:\n",
        "        print('Asset ID base: %s' % symbol['asset_id_base'])\n",
        "    except KeyError:\n",
        "        print('Can not find Asset ID base')\n",
        "    try:\n",
        "        print('Asset ID quote: %s' % symbol['asset_id_quote'])\n",
        "    except KeyError:\n",
        "        print('Can not find Asset ID quote')\n",
        "\n",
        "    if (symbol['symbol_type'] == 'FUTURES'):\n",
        "        print('Future delivery time: %s' % symbol['future_delivery_time'])\n",
        "\n",
        "    if (symbol['symbol_type'] == 'OPTION'):\n",
        "        print('Option type is call: %s' % symbol['option_type_is_call'])\n",
        "        print('Option strike price: %s' % symbol['option_strike_price'])\n",
        "        print('Option contract unit: %s' % symbol['option_contract_unit'])\n",
        "        print('Option exercise style: %s' % symbol['option_exercise_style'])\n",
        "        print('Option expiration time: %s' % symbol['option_expiration_time'])\n",
        "\n",
        "exchange_rate = api.exchange_rates_get_specific_rate('BTC', 'USD')\n",
        "print('Time: %s' % exchange_rate['time'])\n",
        "print('Base: %s' % exchange_rate['asset_id_base'])\n",
        "print('Quote: %s' % exchange_rate['asset_id_quote'])\n",
        "print('Rate: %s' % exchange_rate['rate'])\n",
        "last_week = datetime.date(2017, 5, 16).isoformat()\n",
        "\n",
        "exchange_rate_last_week = api.exchange_rates_get_specific_rate('BTC', 'USD', {'time': last_week})\n",
        "print('Time: %s' % exchange_rate_last_week['time'])\n",
        "print('Base: %s' % exchange_rate_last_week['asset_id_base'])\n",
        "print('Quote: %s' % exchange_rate_last_week['asset_id_quote'])\n",
        "print('Rate: %s' % exchange_rate_last_week['rate'])\n",
        "\n",
        "current_rates = api.exchange_rates_get_all_current_rates('BTC')\n",
        "\n",
        "print(\"Asset ID Base: %s\" % current_rates['asset_id_base'])\n",
        "for rate in current_rates['rates']:\n",
        "    print('Time: %s' % rate['time'])\n",
        "    print('Quote: %s' % rate['asset_id_quote'])\n",
        "    print('Rate: %s' % rate['rate'])\n",
        "\n",
        "periods = api.ohlcv_list_all_periods()\n",
        "\n",
        "for period in periods:\n",
        "    print('ID: %s' % period['period_id'])\n",
        "    print('Seconds: %s' % period['length_seconds'])\n",
        "    print('Months: %s' % period['length_months'])\n",
        "    print('Unit count: %s' % period['unit_count'])\n",
        "    print('Unit name: %s' % period['unit_name'])\n",
        "    print('Display name: %s' % period['display_name'])\n",
        "\n",
        "ohlcv_latest = api.ohlcv_latest_data('BITSTAMP_SPOT_BTC_USD', {'period_id': '1MIN'})\n",
        "\n",
        "for period in ohlcv_latest:\n",
        "    print('Period start: %s' % period['time_period_start'])\n",
        "    print('Period end: %s' % period['time_period_end'])\n",
        "    print('Time open: %s' % period['time_open'])\n",
        "    print('Time close: %s' % period['time_close'])\n",
        "    print('Price open: %s' % period['price_open'])\n",
        "    print('Price close: %s' % period['price_close'])\n",
        "    print('Price low: %s' % period['price_low'])\n",
        "    print('Price high: %s' % period['price_high'])\n",
        "    print('Volume traded: %s' % period['volume_traded'])\n",
        "    print('Trades count: %s' % period['trades_count'])\n",
        "\n",
        "start_of_2016 = datetime.date(2016, 1, 1).isoformat()\n",
        "ohlcv_historical = api.ohlcv_historical_data('BITSTAMP_SPOT_BTC_USD', {'period_id': '1MIN', 'time_start': start_of_2016})\n",
        "\n",
        "for period in ohlcv_historical:\n",
        "    print('Period start: %s' % period['time_period_start'])\n",
        "    print('Period end: %s' % period['time_period_end'])\n",
        "    print('Time open: %s' % period['time_open'])\n",
        "    print('Time close: %s' % period['time_close'])\n",
        "    print('Price open: %s' % period['price_open'])\n",
        "    print('Price close: %s' % period['price_close'])\n",
        "    print('Price low: %s' % period['price_low'])\n",
        "    print('Price high: %s' % period['price_high'])\n",
        "    print('Volume traded: %s' % period['volume_traded'])\n",
        "    print('Trades count: %s' % period['trades_count'])\n",
        "\n",
        "latest_trades = api.trades_latest_data_all()\n",
        "\n",
        "for data in latest_trades:\n",
        "    print('Symbol ID: %s' % data['symbol_id'])\n",
        "    print('Time Exchange: %s' % data['time_exchange'])\n",
        "    print('Time CoinAPI: %s' % data['time_coinapi'])\n",
        "    print('UUID: %s' % data['uuid'])\n",
        "    print('Price: %s' % data['price'])\n",
        "    print('Size: %s' % data['size'])\n",
        "    print('Taker Side: %s' % data['taker_side'])\n",
        "\n",
        "latest_trades_doge = api.trades_latest_data_symbol('BITTREX_SPOT_BTC_USD')\n",
        "\n",
        "for data in latest_trades_doge:\n",
        "    print('Symbol ID: %s' % data['symbol_id'])\n",
        "    print('Time Exchange: %s' % data['time_exchange'])\n",
        "    print('Time CoinAPI: %s' % data['time_coinapi'])\n",
        "    print('UUID: %s' % data['uuid'])\n",
        "    print('Price: %s' % data['price'])\n",
        "    print('Size: %s' % data['size'])\n",
        "    print('Taker Side: %s' % data['taker_side'])\n",
        "\n",
        "historical_trades_btc = api.trades_historical_data('BITSTAMP_SPOT_BTC_USD', {'time_start': start_of_2016})\n",
        "\n",
        "for data in historical_trades_btc:\n",
        "    print('Symbol ID: %s' % data['symbol_id'])\n",
        "    print('Time Exchange: %s' % data['time_exchange'])\n",
        "    print('Time CoinAPI: %s' % data['time_coinapi'])\n",
        "    print('UUID: %s' % data['uuid'])\n",
        "    print('Price: %s' % data['price'])\n",
        "    print('Size: %s' % data['size'])\n",
        "    print('Taker Side: %s' % data['taker_side'])\n",
        "\n",
        "current_quotes = api.quotes_current_data_all()\n",
        "print(current_quotes)\n",
        "for quote in current_quotes:\n",
        "    print('Symbol ID: %s' % quote['symbol_id'])\n",
        "    print('Time Exchange: %s' % quote['time_exchange'])\n",
        "    print('Time CoinAPI: %s' % quote['time_coinapi'])\n",
        "    print('Ask Price: %s' % quote['ask_price'])\n",
        "    print('Ask Size: %s' % quote['ask_size'])\n",
        "    print('Bid Price: %s' % quote['bid_price'])\n",
        "    print('Bid Size: %s' % quote['bid_size'])\n",
        "    if 'last_trade' in quote:\n",
        "        print('Last Trade: %s' % quote['last_trade'])\n",
        "\n",
        "current_quote_btc_usd = api.quotes_current_data_symbol('BITSTAMP_SPOT_BTC_USD')\n",
        "\n",
        "print('Symbol ID: %s' % current_quote_btc_usd['symbol_id'])\n",
        "print('Time Exchange: %s' % current_quote_btc_usd['time_exchange'])\n",
        "print('Time CoinAPI: %s' % current_quote_btc_usd['time_coinapi'])\n",
        "print('Ask Price: %s' % current_quote_btc_usd['ask_price'])\n",
        "print('Ask Size: %s' % current_quote_btc_usd['ask_size'])\n",
        "print('Bid Price: %s' % current_quote_btc_usd['bid_price'])\n",
        "print('Bid Size: %s' % current_quote_btc_usd['bid_size'])\n",
        "if 'last_trade' in current_quote_btc_usd:\n",
        "    last_trade = current_quote_btc_usd['last_trade']\n",
        "    print('Last Trade:')\n",
        "    print('- Taker Side: %s' % last_trade['taker_side'])\n",
        "    print('- UUID: %s' % last_trade['uuid'])\n",
        "    print('- Time Exchange: %s' % last_trade['time_exchange'])\n",
        "    print('- Price: %s' % last_trade['price'])\n",
        "    print('- Size: %s' % last_trade['size'])\n",
        "    print('- Time CoinAPI: %s' % last_trade['time_coinapi'])\n",
        "\n",
        "quotes_latest_data = api.quotes_latest_data_all()\n",
        "\n",
        "for quote in quotes_latest_data:\n",
        "    print('Symbol ID: %s' % quote['symbol_id'])\n",
        "    print('Time Exchange: %s' % quote['time_exchange'])\n",
        "    print('Time CoinAPI: %s' % quote['time_coinapi'])\n",
        "    print('Ask Price: %s' % quote['ask_price'])\n",
        "    print('Ask Size: %s' % quote['ask_size'])\n",
        "    print('Bid Price: %s' % quote['bid_price'])\n",
        "    print('Bid Size: %s' % quote['bid_size'])\n",
        "\n",
        "quotes_latest_data_btc_usd = api.quotes_latest_data_symbol('BITSTAMP_SPOT_BTC_USD')\n",
        "\n",
        "for quote in quotes_latest_data_btc_usd:\n",
        "    print('Symbol ID: %s' % quote['symbol_id'])\n",
        "    print('Time Exchange: %s' % quote['time_exchange'])\n",
        "    print('Time CoinAPI: %s' % quote['time_coinapi'])\n",
        "    print('Ask Price: %s' % quote['ask_price'])\n",
        "    print('Ask Size: %s' % quote['ask_size'])\n",
        "    print('Bid Price: %s' % quote['bid_price'])\n",
        "    print('Bid Size: %s' % quote['bid_size'])\n",
        "\n",
        "quotes_historical_data_btc_usd = api.quotes_historical_data('BITSTAMP_SPOT_BTC_USD', {'time_start': start_of_2016})\n",
        "\n",
        "for quote in quotes_historical_data_btc_usd:\n",
        "    print('Symbol ID: %s' % quote['symbol_id'])\n",
        "    print('Time Exchange: %s' % quote['time_exchange'])\n",
        "    print('Time CoinAPI: %s' % quote['time_coinapi'])\n",
        "    print('Ask Price: %s' % quote['ask_price'])\n",
        "    print('Ask Size: %s' % quote['ask_size'])\n",
        "    print('Bid Price: %s' % quote['bid_price'])\n",
        "    print('Bid Size: %s' % quote['bid_size'])\n",
        "\n",
        "# orderbooks_current_data = api.orderbooks_current_data_all()\n",
        "\n",
        "# for data in orderbooks_current_data:\n",
        "#     print('Symbol ID: %s' % data['symbol_id'])\n",
        "#     print('Time Exchange: %s' % data['time_exchange'])\n",
        "#     print('Time CoinAPI: %s' % data['time_coinapi'])\n",
        "#     print('Asks:')\n",
        "#     for ask in data['asks']:\n",
        "#         print('- Price: %s' % ask['price'])\n",
        "#         print('- Size: %s' % ask['size'])\n",
        "#     print('Bids:')\n",
        "#     for bid in data['bids']:\n",
        "#         print('- Price: %s' % bid['price'])\n",
        "#         print('- Size: %s' % bid['size'])\n",
        "\n",
        "orderbooks_current_data_btc_usd = api.orderbooks_current_data_symbol('BITSTAMP_SPOT_BTC_USD')\n",
        "\n",
        "print('Symbol ID: %s' % orderbooks_current_data_btc_usd['symbol_id'])\n",
        "print('Time Exchange: %s' % orderbooks_current_data_btc_usd['time_exchange'])\n",
        "print('Time CoinAPI: %s' % orderbooks_current_data_btc_usd['time_coinapi'])\n",
        "print('Asks:')\n",
        "for ask in orderbooks_current_data_btc_usd['asks']:\n",
        "    print('- Price: %s' % ask['price'])\n",
        "    print('- Size: %s' % ask['size'])\n",
        "print('Bids:')\n",
        "for bid in orderbooks_current_data_btc_usd['bids']:\n",
        "    print('- Price: %s' % bid['price'])\n",
        "    print('- Size: %s' % bid['size'])\n",
        "\n",
        "orderbooks_latest_data_btc_usd = api.orderbooks_latest_data('BITSTAMP_SPOT_BTC_USD')\n",
        "\n",
        "for data in orderbooks_latest_data_btc_usd:\n",
        "    print('Symbol ID: %s' % data['symbol_id'])\n",
        "    print('Time Exchange: %s' % data['time_exchange'])\n",
        "    print('Time CoinAPI: %s' % data['time_coinapi'])\n",
        "    print('Asks:')\n",
        "    for ask in data['asks']:\n",
        "        print('- Price: %s' % ask['price'])\n",
        "        print('- Size: %s' % ask['size'])\n",
        "    print('Bids:')\n",
        "    for bid in data['bids']:\n",
        "        print('- Price: %s' % bid['price'])\n",
        "        print('- Size: %s' % bid['size'])\n",
        "\n",
        "orderbooks_historical_data_btc_usd = api.orderbooks_historical_data('BITSTAMP_SPOT_BTC_USD', {'time_start': start_of_2016})\n",
        "\n",
        "for data in orderbooks_historical_data_btc_usd:\n",
        "    print('Symbol ID: %s' % data['symbol_id'])\n",
        "    print('Time Exchange: %s' % data['time_exchange'])\n",
        "    print('Time CoinAPI: %s' % data['time_coinapi'])\n",
        "    print('Asks:')\n",
        "    for ask in data['asks']:\n",
        "        print('- Price: %s' % ask['price'])\n",
        "        print('- Size: %s' % ask['size'])\n",
        "    print('Bids:')\n",
        "    for bid in data['bids']:\n",
        "        print('- Price: %s' % bid['price'])\n",
        "        print('- Size: %s' % bid['size'])"
      ],
      "execution_count": null,
      "outputs": []
    },
    {
      "cell_type": "markdown",
      "metadata": {
        "id": "BAFZEdM-KRW-"
      },
      "source": [
        "# LUNARCRUSH"
      ]
    },
    {
      "cell_type": "code",
      "metadata": {
        "id": "5hIYsvxCKPZy"
      },
      "source": [
        "import requests\n",
        "import json \n",
        "import datetime\n",
        "\n",
        "url = \"https://api.lunarcrush.com/v2?data=global&key=d1a3apltb0b5aeuww1d9xw&data_points=24\"\n",
        "response = requests.get(url)\n",
        "data = json.loads(response.text)"
      ],
      "execution_count": null,
      "outputs": []
    },
    {
      "cell_type": "code",
      "metadata": {
        "colab": {
          "base_uri": "https://localhost:8080/"
        },
        "id": "vPc34X_vKrlv",
        "outputId": "8e0146ed-5503-4c69-de02-ced23451dd1b"
      },
      "source": [
        "print(data.keys())\n",
        "print(\"USAGE:\",data[\"usage\"])\n",
        "ts = data[\"data\"][\"timeSeries\"]\n",
        "\n",
        "time = datetime.datetime.utcfromtimestamp(ts[-1][\"time\"]).strftime(\"%d/%m/%Y, %H:%M:%S\")\n",
        "\n",
        "print(time)"
      ],
      "execution_count": null,
      "outputs": [
        {
          "output_type": "stream",
          "text": [
            "dict_keys(['config', 'usage', 'data'])\n",
            "USAGE: {'day': 2, 'month': 2}\n"
          ],
          "name": "stdout"
        }
      ]
    },
    {
      "cell_type": "markdown",
      "metadata": {
        "id": "voy9YX3hPTQi"
      },
      "source": [
        "# Polygon"
      ]
    },
    {
      "cell_type": "code",
      "metadata": {
        "colab": {
          "base_uri": "https://localhost:8080/"
        },
        "id": "INP95VPDLJj6",
        "outputId": "cdaabd38-0973-440d-835f-0980c9ea0897"
      },
      "source": [
        ""
      ],
      "execution_count": null,
      "outputs": [
        {
          "output_type": "stream",
          "text": [
            "30/08/2021, 13:00:00\n"
          ],
          "name": "stdout"
        }
      ]
    }
  ]
}