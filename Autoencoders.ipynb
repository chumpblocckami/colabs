{
  "nbformat": 4,
  "nbformat_minor": 0,
  "metadata": {
    "colab": {
      "name": "Autoencoders.ipynb",
      "provenance": [],
      "collapsed_sections": [],
      "authorship_tag": "ABX9TyNKsRCQRtSceV7AFEyteKET",
      "include_colab_link": true
    },
    "kernelspec": {
      "name": "python3",
      "display_name": "Python 3"
    },
    "language_info": {
      "name": "python"
    },
    "accelerator": "GPU"
  },
  "cells": [
    {
      "cell_type": "markdown",
      "metadata": {
        "id": "view-in-github",
        "colab_type": "text"
      },
      "source": [
        "<a href=\"https://colab.research.google.com/github/chumpblocckami/colabs/blob/main/Autoencoders.ipynb\" target=\"_parent\"><img src=\"https://colab.research.google.com/assets/colab-badge.svg\" alt=\"Open In Colab\"/></a>"
      ]
    },
    {
      "cell_type": "code",
      "metadata": {
        "id": "mwiqrcoslb4N"
      },
      "source": [
        "%%capture\n",
        "!pip install tensorflow\n",
        "\n",
        "import matplotlib.pyplot as plt\n",
        "import numpy as np"
      ],
      "execution_count": null,
      "outputs": []
    },
    {
      "cell_type": "code",
      "metadata": {
        "colab": {
          "base_uri": "https://localhost:8080/"
        },
        "id": "kv7OsuiItFiP",
        "outputId": "6a069575-ac22-49af-fcd2-01071d3994f8"
      },
      "source": [
        "!nvidia-smi"
      ],
      "execution_count": null,
      "outputs": [
        {
          "output_type": "stream",
          "name": "stdout",
          "text": [
            "Fri Nov 26 16:00:50 2021       \n",
            "+-----------------------------------------------------------------------------+\n",
            "| NVIDIA-SMI 495.44       Driver Version: 460.32.03    CUDA Version: 11.2     |\n",
            "|-------------------------------+----------------------+----------------------+\n",
            "| GPU  Name        Persistence-M| Bus-Id        Disp.A | Volatile Uncorr. ECC |\n",
            "| Fan  Temp  Perf  Pwr:Usage/Cap|         Memory-Usage | GPU-Util  Compute M. |\n",
            "|                               |                      |               MIG M. |\n",
            "|===============================+======================+======================|\n",
            "|   0  Tesla K80           Off  | 00000000:00:04.0 Off |                    0 |\n",
            "| N/A   72C    P8    34W / 149W |      0MiB / 11441MiB |      0%      Default |\n",
            "|                               |                      |                  N/A |\n",
            "+-------------------------------+----------------------+----------------------+\n",
            "                                                                               \n",
            "+-----------------------------------------------------------------------------+\n",
            "| Processes:                                                                  |\n",
            "|  GPU   GI   CI        PID   Type   Process name                  GPU Memory |\n",
            "|        ID   ID                                                   Usage      |\n",
            "|=============================================================================|\n",
            "|  No running processes found                                                 |\n",
            "+-----------------------------------------------------------------------------+\n"
          ]
        }
      ]
    },
    {
      "cell_type": "markdown",
      "metadata": {
        "id": "44UqJ_jo76ro"
      },
      "source": [
        "## Fashion MNIST"
      ]
    },
    {
      "cell_type": "code",
      "metadata": {
        "colab": {
          "base_uri": "https://localhost:8080/",
          "height": 162
        },
        "id": "aBaoD_7NlkU8",
        "outputId": "599dc940-93f4-496d-b927-ff093c035b15"
      },
      "source": [
        "from tensorflow.keras.datasets import fashion_mnist\n",
        "\n",
        "(x_train, y_train), (x_test, y_test) = fashion_mnist.load_data()\n",
        "\n",
        "x_train = x_train.astype('float32') / 255\n",
        "x_test = x_test.astype('float32') / 255\n",
        "\n",
        "fig_x,fig_y = np.array(x_train)[0].shape\n",
        "print(\"fig size\", fig_x, fig_y)\n",
        "\n",
        "n = 10\n",
        "plt.figure(figsize=(20,4))\n",
        "for i in range(n):\n",
        "  ax = plt.subplot(1,n,i+1)\n",
        "  plt.imshow(x_train[i])\n",
        "  plt.title(y_train[i])\n",
        "  plt.gray()\n",
        "  ax.get_xaxis().set_visible(False)\n",
        "  ax.get_yaxis().set_visible(False)\n",
        "plt.show()"
      ],
      "execution_count": null,
      "outputs": [
        {
          "output_type": "stream",
          "name": "stdout",
          "text": [
            "fig size 28 28\n"
          ]
        },
        {
          "output_type": "display_data",
          "data": {
            "image/png": "[encoded data removed]",
            "text/plain": [
              "<Figure size 1440x288 with 10 Axes>"
            ]
          },
          "metadata": {
            "needs_background": "light"
          }
        }
      ]
    },
    {
      "cell_type": "markdown",
      "metadata": {
        "id": "G7vcRPr-791Q"
      },
      "source": [
        "## POKEMON SPRITES"
      ]
    },
    {
      "cell_type": "code",
      "metadata": {
        "id": "-5OQ4eX51uYy"
      },
      "source": [
        "## DOWNLOAD POKEMON DATA\n",
        "%%capture\n",
        "!wget https://veekun.com/static/pokedex/downloads/generation-1.tar.gz\n",
        "!mkdir dataset\n",
        "!tar -xvf \"generation-1.tar.gz\" -C \"dataset\" "
      ],
      "execution_count": null,
      "outputs": []
    },
    {
      "cell_type": "code",
      "metadata": {
        "id": "f2DMymrW2boo"
      },
      "source": [
        "import requests\n",
        "poke_dict = eval(requests.get(\"https://calmcode.io/datasets/pokemon.json\").text)\n",
        "first_gen = [x for x in poke_dict if \"Mega\" not in x[\"name\"]]"
      ],
      "execution_count": null,
      "outputs": []
    },
    {
      "cell_type": "code",
      "metadata": {
        "colab": {
          "base_uri": "https://localhost:8080/"
        },
        "id": "REl568Nk2uAt",
        "outputId": "240c2165-513f-4ea0-d2ce-641a3a27e022"
      },
      "source": [
        "from PIL import Image\n",
        "import os \n",
        "\n",
        "path = \"dataset/pokemon/main-sprites/yellow/gray/\"\n",
        "figsize = (28,28)\n",
        "dataset = []\n",
        "for _file in os.listdir(path):\n",
        "  if \"png\" in _file:\n",
        "    img = Image.open(f\"{path}/{_file}\")\n",
        "    img = img.resize(figsize, Image.ANTIALIAS)\n",
        "    label = first_gen[int(\"\".join(_file.split(\".\")[0]))-1][\"type\"][0]\n",
        "    dataset.append((np.array(img), label))\n",
        "dataset = np.asarray(dataset)"
      ],
      "execution_count": null,
      "outputs": [
        {
          "output_type": "stream",
          "name": "stderr",
          "text": [
            "/usr/local/lib/python3.7/dist-packages/numpy/core/_asarray.py:83: VisibleDeprecationWarning: Creating an ndarray from ragged nested sequences (which is a list-or-tuple of lists-or-tuples-or ndarrays with different lengths or shapes) is deprecated. If you meant to do this, you must specify 'dtype=object' when creating the ndarray\n",
            "  return array(a, dtype, copy=False, order=order)\n"
          ]
        }
      ]
    },
    {
      "cell_type": "code",
      "metadata": {
        "colab": {
          "base_uri": "https://localhost:8080/"
        },
        "id": "88HCWP927pEt",
        "outputId": "7a5dfc53-a88d-4741-e24a-a459973c25fa"
      },
      "source": [
        "from sklearn.model_selection import train_test_split\n",
        "x_train, x_test, y_train, y_test = train_test_split([x[0] for x in dataset], [x[1] for x in dataset], test_size=0.33, random_state=126)\n",
        "\n",
        "x_train = np.array(x_train).astype('float32') / 255\n",
        "x_test = np.array(x_test).astype('float32') / 255\n",
        "\n",
        "fig_x,fig_y = np.array(x_train)[0].shape\n",
        "print(\"fig size\", fig_x, fig_y)"
      ],
      "execution_count": null,
      "outputs": [
        {
          "output_type": "stream",
          "name": "stdout",
          "text": [
            "fig size 28 28\n"
          ]
        }
      ]
    },
    {
      "cell_type": "code",
      "metadata": {
        "colab": {
          "base_uri": "https://localhost:8080/",
          "height": 144
        },
        "id": "khWfmuXD74wk",
        "outputId": "3013d8b6-7337-44a6-d31d-a5c722da1cdf"
      },
      "source": [
        "n = 10\n",
        "plt.figure(figsize=(20,4))\n",
        "for i in range(n):\n",
        "  ax = plt.subplot(1,n,i+1)\n",
        "  plt.imshow(x_train[i])\n",
        "  plt.title(y_train[i])\n",
        "  plt.gray()\n",
        "  ax.get_xaxis().set_visible(False)\n",
        "  ax.get_yaxis().set_visible(False)\n",
        "plt.show()"
      ],
      "execution_count": null,
      "outputs": [
        {
          "output_type": "display_data",
          "data": {
            "image/png": "[encoded data removed]",
            "text/plain": [
              "<Figure size 1440x288 with 10 Axes>"
            ]
          },
          "metadata": {
            "needs_background": "light"
          }
        }
      ]
    },
    {
      "cell_type": "code",
      "metadata": {
        "colab": {
          "base_uri": "https://localhost:8080/"
        },
        "id": "M5CUVVTunwP4",
        "outputId": "549da376-0e75-4e20-f5e2-a106aef46042"
      },
      "source": [
        "## ENCODER\n",
        "\n",
        "from tensorflow.keras.layers import Conv2D, Dropout, MaxPooling2D, UpSampling2D,Input\n",
        "from tensorflow.keras import Model \n",
        "\n",
        "input_img = Input(shape=(fig_x,fig_y,1))\n",
        "x = Conv2D(16,(3,3),activation=\"relu\",padding=\"same\")(input_img)\n",
        "x = MaxPooling2D((2,2), padding=\"same\")(x)\n",
        "x = Conv2D(8, (3,3), activation=\"relu\", padding=\"same\")(x)\n",
        "x = MaxPooling2D((2,2), padding=\"same\")(x)\n",
        "x = Conv2D(8, (3,3), activation=\"relu\", padding=\"same\")(x)\n",
        "encoded = MaxPooling2D((2,2), padding=\"same\")(x)\n",
        "\n",
        "Model(input_img, encoded).summary()"
      ],
      "execution_count": null,
      "outputs": [
        {
          "output_type": "stream",
          "name": "stdout",
          "text": [
            "Model: \"model_6\"\n",
            "_________________________________________________________________\n",
            " Layer (type)                Output Shape              Param #   \n",
            "=================================================================\n",
            " input_3 (InputLayer)        [(None, 28, 28, 1)]       0         \n",
            "                                                                 \n",
            " conv2d_10 (Conv2D)          (None, 28, 28, 16)        160       \n",
            "                                                                 \n",
            " max_pooling2d_6 (MaxPooling  (None, 14, 14, 16)       0         \n",
            " 2D)                                                             \n",
            "                                                                 \n",
            " conv2d_11 (Conv2D)          (None, 14, 14, 8)         1160      \n",
            "                                                                 \n",
            " max_pooling2d_7 (MaxPooling  (None, 7, 7, 8)          0         \n",
            " 2D)                                                             \n",
            "                                                                 \n",
            " conv2d_12 (Conv2D)          (None, 7, 7, 8)           584       \n",
            "                                                                 \n",
            " max_pooling2d_8 (MaxPooling  (None, 4, 4, 8)          0         \n",
            " 2D)                                                             \n",
            "                                                                 \n",
            "=================================================================\n",
            "Total params: 1,904\n",
            "Trainable params: 1,904\n",
            "Non-trainable params: 0\n",
            "_________________________________________________________________\n"
          ]
        }
      ]
    },
    {
      "cell_type": "code",
      "metadata": {
        "colab": {
          "base_uri": "https://localhost:8080/"
        },
        "id": "RVkXmt32o6YW",
        "outputId": "99dd5c6f-b3ba-4204-ed5c-89d21294c116"
      },
      "source": [
        "## DECODER\n",
        "x = Conv2D(8, (3,3), activation=\"relu\", padding=\"same\")(encoded)\n",
        "x = UpSampling2D((2,2))(x)\n",
        "x = Conv2D(8, (3,3), activation=\"relu\", padding=\"same\")(x)\n",
        "x = UpSampling2D((2,2))(x)\n",
        "x = Conv2D(16, (3,3), activation=\"relu\")(x)\n",
        "x = UpSampling2D((2,2))(x)\n",
        "decoded = Conv2D(1,(3,3), activation=\"sigmoid\",padding=\"same\")(x)\n",
        "\n",
        "Model(input_img, decoded).summary()"
      ],
      "execution_count": null,
      "outputs": [
        {
          "output_type": "stream",
          "name": "stdout",
          "text": [
            "Model: \"model_7\"\n",
            "_________________________________________________________________\n",
            " Layer (type)                Output Shape              Param #   \n",
            "=================================================================\n",
            " input_3 (InputLayer)        [(None, 28, 28, 1)]       0         \n",
            "                                                                 \n",
            " conv2d_10 (Conv2D)          (None, 28, 28, 16)        160       \n",
            "                                                                 \n",
            " max_pooling2d_6 (MaxPooling  (None, 14, 14, 16)       0         \n",
            " 2D)                                                             \n",
            "                                                                 \n",
            " conv2d_11 (Conv2D)          (None, 14, 14, 8)         1160      \n",
            "                                                                 \n",
            " max_pooling2d_7 (MaxPooling  (None, 7, 7, 8)          0         \n",
            " 2D)                                                             \n",
            "                                                                 \n",
            " conv2d_12 (Conv2D)          (None, 7, 7, 8)           584       \n",
            "                                                                 \n",
            " max_pooling2d_8 (MaxPooling  (None, 4, 4, 8)          0         \n",
            " 2D)                                                             \n",
            "                                                                 \n",
            " conv2d_13 (Conv2D)          (None, 4, 4, 8)           584       \n",
            "                                                                 \n",
            " up_sampling2d_3 (UpSampling  (None, 8, 8, 8)          0         \n",
            " 2D)                                                             \n",
            "                                                                 \n",
            " conv2d_14 (Conv2D)          (None, 8, 8, 8)           584       \n",
            "                                                                 \n",
            " up_sampling2d_4 (UpSampling  (None, 16, 16, 8)        0         \n",
            " 2D)                                                             \n",
            "                                                                 \n",
            " conv2d_15 (Conv2D)          (None, 14, 14, 16)        1168      \n",
            "                                                                 \n",
            " up_sampling2d_5 (UpSampling  (None, 28, 28, 16)       0         \n",
            " 2D)                                                             \n",
            "                                                                 \n",
            " conv2d_16 (Conv2D)          (None, 28, 28, 1)         145       \n",
            "                                                                 \n",
            "=================================================================\n",
            "Total params: 4,385\n",
            "Trainable params: 4,385\n",
            "Non-trainable params: 0\n",
            "_________________________________________________________________\n"
          ]
        }
      ]
    },
    {
      "cell_type": "code",
      "metadata": {
        "colab": {
          "base_uri": "https://localhost:8080/"
        },
        "id": "nOjqFhuFpb5Q",
        "outputId": "3fd812e8-f34d-4723-e100-be8c01cb006a"
      },
      "source": [
        "autoencoder = Model(input_img, decoded)\n",
        "autoencoder.compile(optimizer=\"adam\",loss=\"binary_crossentropy\")\n",
        "autoencoder.fit(x=x_train, \n",
        "                y=x_train, \n",
        "                epochs=250, \n",
        "                batch_size=8, \n",
        "                shuffle=True, \n",
        "                validation_data=(x_test, x_test))"
      ],
      "execution_count": null,
      "outputs": [
        {
          "output_type": "stream",
          "name": "stdout",
          "text": [
            "Epoch 1/250\n",
            "13/13 [==============================] - 1s 39ms/step - loss: 0.4759 - val_loss: 0.4691\n",
            "Epoch 2/250\n",
            "13/13 [==============================] - 0s 11ms/step - loss: 0.4565 - val_loss: 0.4655\n",
            "Epoch 3/250\n",
            "13/13 [==============================] - 0s 10ms/step - loss: 0.4520 - val_loss: 0.4626\n",
            "Epoch 4/250\n",
            "13/13 [==============================] - 0s 10ms/step - loss: 0.4500 - val_loss: 0.4613\n",
            "Epoch 5/250\n",
            "13/13 [==============================] - 0s 10ms/step - loss: 0.4492 - val_loss: 0.4616\n",
            "Epoch 6/250\n",
            "13/13 [==============================] - 0s 13ms/step - loss: 0.4489 - val_loss: 0.4607\n",
            "Epoch 7/250\n",
            "13/13 [==============================] - 0s 14ms/step - loss: 0.4490 - val_loss: 0.4610\n",
            "Epoch 8/250\n",
            "13/13 [==============================] - 0s 14ms/step - loss: 0.4488 - val_loss: 0.4616\n",
            "Epoch 9/250\n",
            "13/13 [==============================] - 0s 14ms/step - loss: 0.4488 - val_loss: 0.4617\n",
            "Epoch 10/250\n",
            "13/13 [==============================] - 0s 13ms/step - loss: 0.4492 - val_loss: 0.4624\n",
            "Epoch 11/250\n",
            "13/13 [==============================] - 0s 12ms/step - loss: 0.4486 - val_loss: 0.4609\n",
            "Epoch 12/250\n",
            "13/13 [==============================] - 0s 16ms/step - loss: 0.4486 - val_loss: 0.4611\n",
            "Epoch 13/250\n",
            "13/13 [==============================] - 0s 11ms/step - loss: 0.4487 - val_loss: 0.4612\n",
            "Epoch 14/250\n",
            "13/13 [==============================] - 0s 14ms/step - loss: 0.4483 - val_loss: 0.4617\n",
            "Epoch 15/250\n",
            "13/13 [==============================] - 0s 14ms/step - loss: 0.4482 - val_loss: 0.4615\n",
            "Epoch 16/250\n",
            "13/13 [==============================] - 0s 14ms/step - loss: 0.4483 - val_loss: 0.4622\n",
            "Epoch 17/250\n",
            "13/13 [==============================] - 0s 11ms/step - loss: 0.4483 - val_loss: 0.4616\n",
            "Epoch 18/250\n",
            "13/13 [==============================] - 0s 11ms/step - loss: 0.4484 - val_loss: 0.4609\n",
            "Epoch 19/250\n",
            "13/13 [==============================] - 0s 12ms/step - loss: 0.4484 - val_loss: 0.4618\n",
            "Epoch 20/250\n",
            "13/13 [==============================] - 0s 14ms/step - loss: 0.4480 - val_loss: 0.4618\n",
            "Epoch 21/250\n",
            "13/13 [==============================] - 0s 13ms/step - loss: 0.4480 - val_loss: 0.4612\n",
            "Epoch 22/250\n",
            "13/13 [==============================] - 0s 13ms/step - loss: 0.4480 - val_loss: 0.4612\n",
            "Epoch 23/250\n",
            "13/13 [==============================] - 0s 12ms/step - loss: 0.4481 - val_loss: 0.4621\n",
            "Epoch 24/250\n",
            "13/13 [==============================] - 0s 16ms/step - loss: 0.4475 - val_loss: 0.4619\n",
            "Epoch 25/250\n",
            "13/13 [==============================] - 0s 12ms/step - loss: 0.4475 - val_loss: 0.4626\n",
            "Epoch 26/250\n",
            "13/13 [==============================] - 0s 14ms/step - loss: 0.4478 - val_loss: 0.4612\n",
            "Epoch 27/250\n",
            "13/13 [==============================] - 0s 14ms/step - loss: 0.4476 - val_loss: 0.4612\n",
            "Epoch 28/250\n",
            "13/13 [==============================] - 0s 15ms/step - loss: 0.4481 - val_loss: 0.4623\n",
            "Epoch 29/250\n",
            "13/13 [==============================] - 0s 10ms/step - loss: 0.4481 - val_loss: 0.4640\n",
            "Epoch 30/250\n",
            "13/13 [==============================] - 0s 14ms/step - loss: 0.4477 - val_loss: 0.4622\n",
            "Epoch 31/250\n",
            "13/13 [==============================] - 0s 12ms/step - loss: 0.4472 - val_loss: 0.4622\n",
            "Epoch 32/250\n",
            "13/13 [==============================] - 0s 14ms/step - loss: 0.4473 - val_loss: 0.4618\n",
            "Epoch 33/250\n",
            "13/13 [==============================] - 0s 14ms/step - loss: 0.4472 - val_loss: 0.4630\n",
            "Epoch 34/250\n",
            "13/13 [==============================] - 0s 14ms/step - loss: 0.4474 - val_loss: 0.4625\n",
            "Epoch 35/250\n",
            "13/13 [==============================] - 0s 11ms/step - loss: 0.4469 - val_loss: 0.4613\n",
            "Epoch 36/250\n",
            "13/13 [==============================] - 0s 10ms/step - loss: 0.4467 - val_loss: 0.4621\n",
            "Epoch 37/250\n",
            "13/13 [==============================] - 0s 13ms/step - loss: 0.4467 - val_loss: 0.4629\n",
            "Epoch 38/250\n",
            "13/13 [==============================] - 0s 13ms/step - loss: 0.4469 - val_loss: 0.4618\n",
            "Epoch 39/250\n",
            "13/13 [==============================] - 0s 15ms/step - loss: 0.4468 - val_loss: 0.4622\n",
            "Epoch 40/250\n",
            "13/13 [==============================] - 0s 11ms/step - loss: 0.4468 - val_loss: 0.4635\n",
            "Epoch 41/250\n",
            "13/13 [==============================] - 0s 14ms/step - loss: 0.4472 - val_loss: 0.4626\n",
            "Epoch 42/250\n",
            "13/13 [==============================] - 0s 15ms/step - loss: 0.4470 - val_loss: 0.4623\n",
            "Epoch 43/250\n",
            "13/13 [==============================] - 0s 16ms/step - loss: 0.4466 - val_loss: 0.4634\n",
            "Epoch 44/250\n",
            "13/13 [==============================] - 0s 12ms/step - loss: 0.4464 - val_loss: 0.4618\n",
            "Epoch 45/250\n",
            "13/13 [==============================] - 0s 12ms/step - loss: 0.4461 - val_loss: 0.4624\n",
            "Epoch 46/250\n",
            "13/13 [==============================] - 0s 16ms/step - loss: 0.4464 - val_loss: 0.4620\n",
            "Epoch 47/250\n",
            "13/13 [==============================] - 0s 12ms/step - loss: 0.4466 - val_loss: 0.4640\n",
            "Epoch 48/250\n",
            "13/13 [==============================] - 0s 16ms/step - loss: 0.4464 - val_loss: 0.4629\n",
            "Epoch 49/250\n",
            "13/13 [==============================] - 0s 15ms/step - loss: 0.4465 - val_loss: 0.4619\n",
            "Epoch 50/250\n",
            "13/13 [==============================] - 0s 16ms/step - loss: 0.4463 - val_loss: 0.4648\n",
            "Epoch 51/250\n",
            "13/13 [==============================] - 0s 10ms/step - loss: 0.4461 - val_loss: 0.4628\n",
            "Epoch 52/250\n",
            "13/13 [==============================] - 0s 10ms/step - loss: 0.4457 - val_loss: 0.4629\n",
            "Epoch 53/250\n",
            "13/13 [==============================] - 0s 14ms/step - loss: 0.4457 - val_loss: 0.4634\n",
            "Epoch 54/250\n",
            "13/13 [==============================] - 0s 11ms/step - loss: 0.4456 - val_loss: 0.4617\n",
            "Epoch 55/250\n",
            "13/13 [==============================] - 0s 13ms/step - loss: 0.4462 - val_loss: 0.4664\n",
            "Epoch 56/250\n",
            "13/13 [==============================] - 0s 11ms/step - loss: 0.4464 - val_loss: 0.4632\n",
            "Epoch 57/250\n",
            "13/13 [==============================] - 0s 10ms/step - loss: 0.4458 - val_loss: 0.4668\n",
            "Epoch 58/250\n",
            "13/13 [==============================] - 0s 15ms/step - loss: 0.4458 - val_loss: 0.4621\n",
            "Epoch 59/250\n",
            "13/13 [==============================] - 0s 14ms/step - loss: 0.4451 - val_loss: 0.4652\n",
            "Epoch 60/250\n",
            "13/13 [==============================] - 0s 15ms/step - loss: 0.4454 - val_loss: 0.4612\n",
            "Epoch 61/250\n",
            "13/13 [==============================] - 0s 11ms/step - loss: 0.4450 - val_loss: 0.4623\n",
            "Epoch 62/250\n",
            "13/13 [==============================] - 0s 10ms/step - loss: 0.4449 - val_loss: 0.4623\n",
            "Epoch 63/250\n",
            "13/13 [==============================] - 0s 10ms/step - loss: 0.4450 - val_loss: 0.4628\n",
            "Epoch 64/250\n",
            "13/13 [==============================] - 0s 11ms/step - loss: 0.4450 - val_loss: 0.4616\n",
            "Epoch 65/250\n",
            "13/13 [==============================] - 0s 14ms/step - loss: 0.4452 - val_loss: 0.4641\n",
            "Epoch 66/250\n",
            "13/13 [==============================] - 0s 11ms/step - loss: 0.4447 - val_loss: 0.4617\n",
            "Epoch 67/250\n",
            "13/13 [==============================] - 0s 11ms/step - loss: 0.4445 - val_loss: 0.4622\n",
            "Epoch 68/250\n",
            "13/13 [==============================] - 0s 10ms/step - loss: 0.4446 - val_loss: 0.4632\n",
            "Epoch 69/250\n",
            "13/13 [==============================] - 0s 10ms/step - loss: 0.4444 - val_loss: 0.4629\n",
            "Epoch 70/250\n",
            "13/13 [==============================] - 0s 13ms/step - loss: 0.4442 - val_loss: 0.4634\n",
            "Epoch 71/250\n",
            "13/13 [==============================] - 0s 10ms/step - loss: 0.4444 - val_loss: 0.4622\n",
            "Epoch 72/250\n",
            "13/13 [==============================] - 0s 11ms/step - loss: 0.4447 - val_loss: 0.4642\n",
            "Epoch 73/250\n",
            "13/13 [==============================] - 0s 14ms/step - loss: 0.4447 - val_loss: 0.4623\n",
            "Epoch 74/250\n",
            "13/13 [==============================] - 0s 14ms/step - loss: 0.4447 - val_loss: 0.4632\n",
            "Epoch 75/250\n",
            "13/13 [==============================] - 0s 11ms/step - loss: 0.4446 - val_loss: 0.4682\n",
            "Epoch 76/250\n",
            "13/13 [==============================] - 0s 10ms/step - loss: 0.4456 - val_loss: 0.4622\n",
            "Epoch 77/250\n",
            "13/13 [==============================] - 0s 13ms/step - loss: 0.4446 - val_loss: 0.4657\n",
            "Epoch 78/250\n",
            "13/13 [==============================] - 0s 14ms/step - loss: 0.4445 - val_loss: 0.4622\n",
            "Epoch 79/250\n",
            "13/13 [==============================] - 0s 12ms/step - loss: 0.4442 - val_loss: 0.4627\n",
            "Epoch 80/250\n",
            "13/13 [==============================] - 0s 11ms/step - loss: 0.4442 - val_loss: 0.4620\n",
            "Epoch 81/250\n",
            "13/13 [==============================] - 0s 11ms/step - loss: 0.4442 - val_loss: 0.4630\n",
            "Epoch 82/250\n",
            "13/13 [==============================] - 0s 10ms/step - loss: 0.4438 - val_loss: 0.4619\n",
            "Epoch 83/250\n",
            "13/13 [==============================] - 0s 11ms/step - loss: 0.4438 - val_loss: 0.4620\n",
            "Epoch 84/250\n",
            "13/13 [==============================] - 0s 10ms/step - loss: 0.4438 - val_loss: 0.4621\n",
            "Epoch 85/250\n",
            "13/13 [==============================] - 0s 15ms/step - loss: 0.4438 - val_loss: 0.4634\n",
            "Epoch 86/250\n",
            "13/13 [==============================] - 0s 10ms/step - loss: 0.4436 - val_loss: 0.4626\n",
            "Epoch 87/250\n",
            "13/13 [==============================] - 0s 13ms/step - loss: 0.4434 - val_loss: 0.4647\n",
            "Epoch 88/250\n",
            "13/13 [==============================] - 0s 13ms/step - loss: 0.4434 - val_loss: 0.4650\n",
            "Epoch 89/250\n",
            "13/13 [==============================] - 0s 14ms/step - loss: 0.4436 - val_loss: 0.4633\n",
            "Epoch 90/250\n",
            "13/13 [==============================] - 0s 12ms/step - loss: 0.4431 - val_loss: 0.4630\n",
            "Epoch 91/250\n",
            "13/13 [==============================] - 0s 11ms/step - loss: 0.4434 - val_loss: 0.4623\n",
            "Epoch 92/250\n",
            "13/13 [==============================] - 0s 11ms/step - loss: 0.4433 - val_loss: 0.4627\n",
            "Epoch 93/250\n",
            "13/13 [==============================] - 0s 15ms/step - loss: 0.4432 - val_loss: 0.4645\n",
            "Epoch 94/250\n",
            "13/13 [==============================] - 0s 11ms/step - loss: 0.4433 - val_loss: 0.4651\n",
            "Epoch 95/250\n",
            "13/13 [==============================] - 0s 11ms/step - loss: 0.4431 - val_loss: 0.4626\n",
            "Epoch 96/250\n",
            "13/13 [==============================] - 0s 12ms/step - loss: 0.4427 - val_loss: 0.4621\n",
            "Epoch 97/250\n",
            "13/13 [==============================] - 0s 13ms/step - loss: 0.4427 - val_loss: 0.4650\n",
            "Epoch 98/250\n",
            "13/13 [==============================] - 0s 11ms/step - loss: 0.4432 - val_loss: 0.4639\n",
            "Epoch 99/250\n",
            "13/13 [==============================] - 0s 12ms/step - loss: 0.4428 - val_loss: 0.4621\n",
            "Epoch 100/250\n",
            "13/13 [==============================] - 0s 14ms/step - loss: 0.4436 - val_loss: 0.4622\n",
            "Epoch 101/250\n",
            "13/13 [==============================] - 0s 16ms/step - loss: 0.4432 - val_loss: 0.4614\n",
            "Epoch 102/250\n",
            "13/13 [==============================] - 0s 15ms/step - loss: 0.4427 - val_loss: 0.4649\n",
            "Epoch 103/250\n",
            "13/13 [==============================] - 0s 12ms/step - loss: 0.4425 - val_loss: 0.4643\n",
            "Epoch 104/250\n",
            "13/13 [==============================] - 0s 11ms/step - loss: 0.4424 - val_loss: 0.4621\n",
            "Epoch 105/250\n",
            "13/13 [==============================] - 0s 11ms/step - loss: 0.4423 - val_loss: 0.4652\n",
            "Epoch 106/250\n",
            "13/13 [==============================] - 0s 11ms/step - loss: 0.4424 - val_loss: 0.4619\n",
            "Epoch 107/250\n",
            "13/13 [==============================] - 0s 12ms/step - loss: 0.4433 - val_loss: 0.4660\n",
            "Epoch 108/250\n",
            "13/13 [==============================] - 0s 14ms/step - loss: 0.4435 - val_loss: 0.4621\n",
            "Epoch 109/250\n",
            "13/13 [==============================] - 0s 14ms/step - loss: 0.4429 - val_loss: 0.4620\n",
            "Epoch 110/250\n",
            "13/13 [==============================] - 0s 11ms/step - loss: 0.4423 - val_loss: 0.4633\n",
            "Epoch 111/250\n",
            "13/13 [==============================] - 0s 11ms/step - loss: 0.4426 - val_loss: 0.4628\n",
            "Epoch 112/250\n",
            "13/13 [==============================] - 0s 13ms/step - loss: 0.4421 - val_loss: 0.4613\n",
            "Epoch 113/250\n",
            "13/13 [==============================] - 0s 10ms/step - loss: 0.4428 - val_loss: 0.4629\n",
            "Epoch 114/250\n",
            "13/13 [==============================] - 0s 13ms/step - loss: 0.4428 - val_loss: 0.4622\n",
            "Epoch 115/250\n",
            "13/13 [==============================] - 0s 16ms/step - loss: 0.4418 - val_loss: 0.4626\n",
            "Epoch 116/250\n",
            "13/13 [==============================] - 0s 13ms/step - loss: 0.4416 - val_loss: 0.4646\n",
            "Epoch 117/250\n",
            "13/13 [==============================] - 0s 14ms/step - loss: 0.4419 - val_loss: 0.4623\n",
            "Epoch 118/250\n",
            "13/13 [==============================] - 0s 15ms/step - loss: 0.4414 - val_loss: 0.4633\n",
            "Epoch 119/250\n",
            "13/13 [==============================] - 0s 10ms/step - loss: 0.4415 - val_loss: 0.4631\n",
            "Epoch 120/250\n",
            "13/13 [==============================] - 0s 11ms/step - loss: 0.4415 - val_loss: 0.4629\n",
            "Epoch 121/250\n",
            "13/13 [==============================] - 0s 10ms/step - loss: 0.4414 - val_loss: 0.4630\n",
            "Epoch 122/250\n",
            "13/13 [==============================] - 0s 14ms/step - loss: 0.4412 - val_loss: 0.4626\n",
            "Epoch 123/250\n",
            "13/13 [==============================] - 0s 10ms/step - loss: 0.4413 - val_loss: 0.4634\n",
            "Epoch 124/250\n",
            "13/13 [==============================] - 0s 11ms/step - loss: 0.4410 - val_loss: 0.4634\n",
            "Epoch 125/250\n",
            "13/13 [==============================] - 0s 14ms/step - loss: 0.4410 - val_loss: 0.4638\n",
            "Epoch 126/250\n",
            "13/13 [==============================] - 0s 11ms/step - loss: 0.4412 - val_loss: 0.4619\n",
            "Epoch 127/250\n",
            "13/13 [==============================] - 0s 14ms/step - loss: 0.4417 - val_loss: 0.4615\n",
            "Epoch 128/250\n",
            "13/13 [==============================] - 0s 10ms/step - loss: 0.4419 - val_loss: 0.4642\n",
            "Epoch 129/250\n",
            "13/13 [==============================] - 0s 10ms/step - loss: 0.4419 - val_loss: 0.4630\n",
            "Epoch 130/250\n",
            "13/13 [==============================] - 0s 11ms/step - loss: 0.4420 - val_loss: 0.4636\n",
            "Epoch 131/250\n",
            "13/13 [==============================] - 0s 14ms/step - loss: 0.4413 - val_loss: 0.4652\n",
            "Epoch 132/250\n",
            "13/13 [==============================] - 0s 14ms/step - loss: 0.4415 - val_loss: 0.4643\n",
            "Epoch 133/250\n",
            "13/13 [==============================] - 0s 14ms/step - loss: 0.4421 - val_loss: 0.4623\n",
            "Epoch 134/250\n",
            "13/13 [==============================] - 0s 10ms/step - loss: 0.4424 - val_loss: 0.4668\n",
            "Epoch 135/250\n",
            "13/13 [==============================] - 0s 10ms/step - loss: 0.4415 - val_loss: 0.4624\n",
            "Epoch 136/250\n",
            "13/13 [==============================] - 0s 11ms/step - loss: 0.4412 - val_loss: 0.4630\n",
            "Epoch 137/250\n",
            "13/13 [==============================] - 0s 11ms/step - loss: 0.4409 - val_loss: 0.4656\n",
            "Epoch 138/250\n",
            "13/13 [==============================] - 0s 14ms/step - loss: 0.4412 - val_loss: 0.4636\n",
            "Epoch 139/250\n",
            "13/13 [==============================] - 0s 14ms/step - loss: 0.4409 - val_loss: 0.4644\n",
            "Epoch 140/250\n",
            "13/13 [==============================] - 0s 14ms/step - loss: 0.4405 - val_loss: 0.4644\n",
            "Epoch 141/250\n",
            "13/13 [==============================] - 0s 14ms/step - loss: 0.4407 - val_loss: 0.4629\n",
            "Epoch 142/250\n",
            "13/13 [==============================] - 0s 15ms/step - loss: 0.4409 - val_loss: 0.4634\n",
            "Epoch 143/250\n",
            "13/13 [==============================] - 0s 11ms/step - loss: 0.4407 - val_loss: 0.4659\n",
            "Epoch 144/250\n",
            "13/13 [==============================] - 0s 10ms/step - loss: 0.4411 - val_loss: 0.4640\n",
            "Epoch 145/250\n",
            "13/13 [==============================] - 0s 15ms/step - loss: 0.4405 - val_loss: 0.4655\n",
            "Epoch 146/250\n",
            "13/13 [==============================] - 0s 12ms/step - loss: 0.4406 - val_loss: 0.4666\n",
            "Epoch 147/250\n",
            "13/13 [==============================] - 0s 12ms/step - loss: 0.4405 - val_loss: 0.4637\n",
            "Epoch 148/250\n",
            "13/13 [==============================] - 0s 11ms/step - loss: 0.4407 - val_loss: 0.4640\n",
            "Epoch 149/250\n",
            "13/13 [==============================] - 0s 11ms/step - loss: 0.4403 - val_loss: 0.4662\n",
            "Epoch 150/250\n",
            "13/13 [==============================] - 0s 14ms/step - loss: 0.4408 - val_loss: 0.4626\n",
            "Epoch 151/250\n",
            "13/13 [==============================] - 0s 11ms/step - loss: 0.4402 - val_loss: 0.4627\n",
            "Epoch 152/250\n",
            "13/13 [==============================] - 0s 14ms/step - loss: 0.4406 - val_loss: 0.4691\n",
            "Epoch 153/250\n",
            "13/13 [==============================] - 0s 11ms/step - loss: 0.4402 - val_loss: 0.4639\n",
            "Epoch 154/250\n",
            "13/13 [==============================] - 0s 11ms/step - loss: 0.4398 - val_loss: 0.4664\n",
            "Epoch 155/250\n",
            "13/13 [==============================] - 0s 11ms/step - loss: 0.4401 - val_loss: 0.4637\n",
            "Epoch 156/250\n",
            "13/13 [==============================] - 0s 12ms/step - loss: 0.4402 - val_loss: 0.4629\n",
            "Epoch 157/250\n",
            "13/13 [==============================] - 0s 11ms/step - loss: 0.4400 - val_loss: 0.4642\n",
            "Epoch 158/250\n",
            "13/13 [==============================] - 0s 13ms/step - loss: 0.4396 - val_loss: 0.4635\n",
            "Epoch 159/250\n",
            "13/13 [==============================] - 0s 14ms/step - loss: 0.4397 - val_loss: 0.4632\n",
            "Epoch 160/250\n",
            "13/13 [==============================] - 0s 14ms/step - loss: 0.4400 - val_loss: 0.4652\n",
            "Epoch 161/250\n",
            "13/13 [==============================] - 0s 10ms/step - loss: 0.4395 - val_loss: 0.4652\n",
            "Epoch 162/250\n",
            "13/13 [==============================] - 0s 11ms/step - loss: 0.4396 - val_loss: 0.4648\n",
            "Epoch 163/250\n",
            "13/13 [==============================] - 0s 14ms/step - loss: 0.4392 - val_loss: 0.4645\n",
            "Epoch 164/250\n",
            "13/13 [==============================] - 0s 17ms/step - loss: 0.4393 - val_loss: 0.4631\n",
            "Epoch 165/250\n",
            "13/13 [==============================] - 0s 10ms/step - loss: 0.4396 - val_loss: 0.4650\n",
            "Epoch 166/250\n",
            "13/13 [==============================] - 0s 11ms/step - loss: 0.4396 - val_loss: 0.4630\n",
            "Epoch 167/250\n",
            "13/13 [==============================] - 0s 11ms/step - loss: 0.4397 - val_loss: 0.4683\n",
            "Epoch 168/250\n",
            "13/13 [==============================] - 0s 11ms/step - loss: 0.4404 - val_loss: 0.4647\n",
            "Epoch 169/250\n",
            "13/13 [==============================] - 0s 14ms/step - loss: 0.4407 - val_loss: 0.4643\n",
            "Epoch 170/250\n",
            "13/13 [==============================] - 0s 11ms/step - loss: 0.4394 - val_loss: 0.4633\n",
            "Epoch 171/250\n",
            "13/13 [==============================] - 0s 15ms/step - loss: 0.4394 - val_loss: 0.4641\n",
            "Epoch 172/250\n",
            "13/13 [==============================] - 0s 16ms/step - loss: 0.4397 - val_loss: 0.4647\n",
            "Epoch 173/250\n",
            "13/13 [==============================] - 0s 14ms/step - loss: 0.4392 - val_loss: 0.4653\n",
            "Epoch 174/250\n",
            "13/13 [==============================] - 0s 13ms/step - loss: 0.4388 - val_loss: 0.4646\n",
            "Epoch 175/250\n",
            "13/13 [==============================] - 0s 17ms/step - loss: 0.4389 - val_loss: 0.4633\n",
            "Epoch 176/250\n",
            "13/13 [==============================] - 0s 14ms/step - loss: 0.4394 - val_loss: 0.4646\n",
            "Epoch 177/250\n",
            "13/13 [==============================] - 0s 11ms/step - loss: 0.4390 - val_loss: 0.4643\n",
            "Epoch 178/250\n",
            "13/13 [==============================] - 0s 15ms/step - loss: 0.4388 - val_loss: 0.4645\n",
            "Epoch 179/250\n",
            "13/13 [==============================] - 0s 11ms/step - loss: 0.4397 - val_loss: 0.4692\n",
            "Epoch 180/250\n",
            "13/13 [==============================] - 0s 14ms/step - loss: 0.4400 - val_loss: 0.4641\n",
            "Epoch 181/250\n",
            "13/13 [==============================] - 0s 13ms/step - loss: 0.4396 - val_loss: 0.4646\n",
            "Epoch 182/250\n",
            "13/13 [==============================] - 0s 10ms/step - loss: 0.4395 - val_loss: 0.4646\n",
            "Epoch 183/250\n",
            "13/13 [==============================] - 0s 10ms/step - loss: 0.4393 - val_loss: 0.4646\n",
            "Epoch 184/250\n",
            "13/13 [==============================] - 0s 11ms/step - loss: 0.4389 - val_loss: 0.4637\n",
            "Epoch 185/250\n",
            "13/13 [==============================] - 0s 14ms/step - loss: 0.4387 - val_loss: 0.4651\n",
            "Epoch 186/250\n",
            "13/13 [==============================] - 0s 11ms/step - loss: 0.4385 - val_loss: 0.4676\n",
            "Epoch 187/250\n",
            "13/13 [==============================] - 0s 11ms/step - loss: 0.4391 - val_loss: 0.4660\n",
            "Epoch 188/250\n",
            "13/13 [==============================] - 0s 11ms/step - loss: 0.4394 - val_loss: 0.4641\n",
            "Epoch 189/250\n",
            "13/13 [==============================] - 0s 14ms/step - loss: 0.4386 - val_loss: 0.4650\n",
            "Epoch 190/250\n",
            "13/13 [==============================] - 0s 10ms/step - loss: 0.4385 - val_loss: 0.4629\n",
            "Epoch 191/250\n",
            "13/13 [==============================] - 0s 11ms/step - loss: 0.4384 - val_loss: 0.4647\n",
            "Epoch 192/250\n",
            "13/13 [==============================] - 0s 11ms/step - loss: 0.4383 - val_loss: 0.4647\n",
            "Epoch 193/250\n",
            "13/13 [==============================] - 0s 11ms/step - loss: 0.4382 - val_loss: 0.4645\n",
            "Epoch 194/250\n",
            "13/13 [==============================] - 0s 14ms/step - loss: 0.4383 - val_loss: 0.4664\n",
            "Epoch 195/250\n",
            "13/13 [==============================] - 0s 12ms/step - loss: 0.4385 - val_loss: 0.4666\n",
            "Epoch 196/250\n",
            "13/13 [==============================] - 0s 14ms/step - loss: 0.4391 - val_loss: 0.4683\n",
            "Epoch 197/250\n",
            "13/13 [==============================] - 0s 14ms/step - loss: 0.4393 - val_loss: 0.4623\n",
            "Epoch 198/250\n",
            "13/13 [==============================] - 0s 17ms/step - loss: 0.4385 - val_loss: 0.4654\n",
            "Epoch 199/250\n",
            "13/13 [==============================] - 0s 11ms/step - loss: 0.4383 - val_loss: 0.4651\n",
            "Epoch 200/250\n",
            "13/13 [==============================] - 0s 11ms/step - loss: 0.4381 - val_loss: 0.4679\n",
            "Epoch 201/250\n",
            "13/13 [==============================] - 0s 14ms/step - loss: 0.4382 - val_loss: 0.4648\n",
            "Epoch 202/250\n",
            "13/13 [==============================] - 0s 11ms/step - loss: 0.4379 - val_loss: 0.4685\n",
            "Epoch 203/250\n",
            "13/13 [==============================] - 0s 12ms/step - loss: 0.4377 - val_loss: 0.4661\n",
            "Epoch 204/250\n",
            "13/13 [==============================] - 0s 11ms/step - loss: 0.4377 - val_loss: 0.4653\n",
            "Epoch 205/250\n",
            "13/13 [==============================] - 0s 14ms/step - loss: 0.4381 - val_loss: 0.4689\n",
            "Epoch 206/250\n",
            "13/13 [==============================] - 0s 12ms/step - loss: 0.4393 - val_loss: 0.4648\n",
            "Epoch 207/250\n",
            "13/13 [==============================] - 0s 14ms/step - loss: 0.4393 - val_loss: 0.4638\n",
            "Epoch 208/250\n",
            "13/13 [==============================] - 0s 14ms/step - loss: 0.4385 - val_loss: 0.4646\n",
            "Epoch 209/250\n",
            "13/13 [==============================] - 0s 11ms/step - loss: 0.4381 - val_loss: 0.4686\n",
            "Epoch 210/250\n",
            "13/13 [==============================] - 0s 13ms/step - loss: 0.4385 - val_loss: 0.4710\n",
            "Epoch 211/250\n",
            "13/13 [==============================] - 0s 15ms/step - loss: 0.4388 - val_loss: 0.4669\n",
            "Epoch 212/250\n",
            "13/13 [==============================] - 0s 12ms/step - loss: 0.4382 - val_loss: 0.4641\n",
            "Epoch 213/250\n",
            "13/13 [==============================] - 0s 14ms/step - loss: 0.4381 - val_loss: 0.4668\n",
            "Epoch 214/250\n",
            "13/13 [==============================] - 0s 11ms/step - loss: 0.4374 - val_loss: 0.4655\n",
            "Epoch 215/250\n",
            "13/13 [==============================] - 0s 11ms/step - loss: 0.4374 - val_loss: 0.4701\n",
            "Epoch 216/250\n",
            "13/13 [==============================] - 0s 12ms/step - loss: 0.4379 - val_loss: 0.4664\n",
            "Epoch 217/250\n",
            "13/13 [==============================] - 0s 12ms/step - loss: 0.4376 - val_loss: 0.4657\n",
            "Epoch 218/250\n",
            "13/13 [==============================] - 0s 12ms/step - loss: 0.4375 - val_loss: 0.4663\n",
            "Epoch 219/250\n",
            "13/13 [==============================] - 0s 11ms/step - loss: 0.4374 - val_loss: 0.4668\n",
            "Epoch 220/250\n",
            "13/13 [==============================] - 0s 14ms/step - loss: 0.4374 - val_loss: 0.4646\n",
            "Epoch 221/250\n",
            "13/13 [==============================] - 0s 12ms/step - loss: 0.4372 - val_loss: 0.4679\n",
            "Epoch 222/250\n",
            "13/13 [==============================] - 0s 15ms/step - loss: 0.4376 - val_loss: 0.4690\n",
            "Epoch 223/250\n",
            "13/13 [==============================] - 0s 14ms/step - loss: 0.4374 - val_loss: 0.4682\n",
            "Epoch 224/250\n",
            "13/13 [==============================] - 0s 11ms/step - loss: 0.4381 - val_loss: 0.4645\n",
            "Epoch 225/250\n",
            "13/13 [==============================] - 0s 13ms/step - loss: 0.4376 - val_loss: 0.4676\n",
            "Epoch 226/250\n",
            "13/13 [==============================] - 0s 11ms/step - loss: 0.4373 - val_loss: 0.4653\n",
            "Epoch 227/250\n",
            "13/13 [==============================] - 0s 15ms/step - loss: 0.4377 - val_loss: 0.4681\n",
            "Epoch 228/250\n",
            "13/13 [==============================] - 0s 11ms/step - loss: 0.4376 - val_loss: 0.4659\n",
            "Epoch 229/250\n",
            "13/13 [==============================] - 0s 11ms/step - loss: 0.4373 - val_loss: 0.4654\n",
            "Epoch 230/250\n",
            "13/13 [==============================] - 0s 14ms/step - loss: 0.4372 - val_loss: 0.4657\n",
            "Epoch 231/250\n",
            "13/13 [==============================] - 0s 14ms/step - loss: 0.4369 - val_loss: 0.4664\n",
            "Epoch 232/250\n",
            "13/13 [==============================] - 0s 14ms/step - loss: 0.4372 - val_loss: 0.4653\n",
            "Epoch 233/250\n",
            "13/13 [==============================] - 0s 12ms/step - loss: 0.4383 - val_loss: 0.4717\n",
            "Epoch 234/250\n",
            "13/13 [==============================] - 0s 11ms/step - loss: 0.4392 - val_loss: 0.4691\n",
            "Epoch 235/250\n",
            "13/13 [==============================] - 0s 14ms/step - loss: 0.4377 - val_loss: 0.4652\n",
            "Epoch 236/250\n",
            "13/13 [==============================] - 0s 12ms/step - loss: 0.4374 - val_loss: 0.4692\n",
            "Epoch 237/250\n",
            "13/13 [==============================] - 0s 14ms/step - loss: 0.4375 - val_loss: 0.4708\n",
            "Epoch 238/250\n",
            "13/13 [==============================] - 0s 14ms/step - loss: 0.4381 - val_loss: 0.4657\n",
            "Epoch 239/250\n",
            "13/13 [==============================] - 0s 12ms/step - loss: 0.4377 - val_loss: 0.4662\n",
            "Epoch 240/250\n",
            "13/13 [==============================] - 0s 14ms/step - loss: 0.4375 - val_loss: 0.4673\n",
            "Epoch 241/250\n",
            "13/13 [==============================] - 0s 12ms/step - loss: 0.4378 - val_loss: 0.4695\n",
            "Epoch 242/250\n",
            "13/13 [==============================] - 0s 12ms/step - loss: 0.4369 - val_loss: 0.4666\n",
            "Epoch 243/250\n",
            "13/13 [==============================] - 0s 15ms/step - loss: 0.4364 - val_loss: 0.4652\n",
            "Epoch 244/250\n",
            "13/13 [==============================] - 0s 14ms/step - loss: 0.4366 - val_loss: 0.4656\n",
            "Epoch 245/250\n",
            "13/13 [==============================] - 0s 13ms/step - loss: 0.4364 - val_loss: 0.4691\n",
            "Epoch 246/250\n",
            "13/13 [==============================] - 0s 15ms/step - loss: 0.4367 - val_loss: 0.4719\n",
            "Epoch 247/250\n",
            "13/13 [==============================] - 0s 12ms/step - loss: 0.4368 - val_loss: 0.4649\n",
            "Epoch 248/250\n",
            "13/13 [==============================] - 0s 15ms/step - loss: 0.4363 - val_loss: 0.4676\n",
            "Epoch 249/250\n",
            "13/13 [==============================] - 0s 14ms/step - loss: 0.4366 - val_loss: 0.4671\n",
            "Epoch 250/250\n",
            "13/13 [==============================] - 0s 17ms/step - loss: 0.4360 - val_loss: 0.4670\n"
          ]
        },
        {
          "output_type": "execute_result",
          "data": {
            "text/plain": [
              "<keras.callbacks.History at 0x7f01183d59d0>"
            ]
          },
          "metadata": {},
          "execution_count": 69
        }
      ]
    },
    {
      "cell_type": "code",
      "metadata": {
        "id": "eZd-skjZqBP_"
      },
      "source": [
        "decoded_imgs = autoencoder.predict(x_test)"
      ],
      "execution_count": null,
      "outputs": []
    },
    {
      "cell_type": "code",
      "metadata": {
        "colab": {
          "base_uri": "https://localhost:8080/",
          "height": 273
        },
        "id": "WdCPfY0gwdLj",
        "outputId": "3342b186-0977-4d5a-f0d8-1d83128f1dd0"
      },
      "source": [
        "n = 10\n",
        "plt.figure(figsize=(20,4))\n",
        "for i in range(n):\n",
        "  ax = plt.subplot(1,n,i+1)\n",
        "  plt.imshow(x_test[i])\n",
        "  plt.title(y_test[i])\n",
        "  plt.gray()\n",
        "  ax.get_xaxis().set_visible(False)\n",
        "  ax.get_yaxis().set_visible(False)\n",
        "plt.show()\n",
        "\n",
        "n = 10\n",
        "plt.figure(figsize=(20,4))\n",
        "for i in range(n):\n",
        "  ax = plt.subplot(1,n,i+1)\n",
        "  plt.imshow(decoded_imgs[i][:,:,0])\n",
        "  plt.title(y_test[i])\n",
        "  plt.gray()\n",
        "  ax.get_xaxis().set_visible(False)\n",
        "  ax.get_yaxis().set_visible(False)\n",
        "plt.show()"
      ],
      "execution_count": null,
      "outputs": [
        {
          "output_type": "display_data",
          "data": {
            "image/png": "[encoded data removed]",
            "text/plain": [
              "<Figure size 1440x288 with 10 Axes>"
            ]
          },
          "metadata": {
            "needs_background": "light"
          }
        },
        {
          "output_type": "display_data",
          "data": {
            "image/png": "[encoded data removed]",
            "text/plain": [
              "<Figure size 1440x288 with 10 Axes>"
            ]
          },
          "metadata": {
            "needs_background": "light"
          }
        }
      ]
    },
    {
      "cell_type": "code",
      "metadata": {
        "colab": {
          "base_uri": "https://localhost:8080/"
        },
        "id": "_v8MoBQ5tJtD",
        "outputId": "cb991769-9f16-4983-ff55-d7fb58e1edff"
      },
      "source": [
        "from tensorflow.keras.layers import Flatten\n",
        "from sklearn.manifold import TSNE\n",
        "import numpy as np \n",
        "\n",
        "embed_layer = Flatten()(encoded)\n",
        "embeddings = Model(input_img, embed_layer).predict(x_test)\n",
        "tsne = TSNE(n_components=2, learning_rate=\"auto\")\n",
        "emb2d = tsne.fit_transform(embeddings)\n",
        "x, y = np.squeeze(emb2d[:, 0]), np.squeeze(emb2d[:, 1])"
      ],
      "execution_count": null,
      "outputs": [
        {
          "output_type": "stream",
          "name": "stderr",
          "text": [
            "/usr/local/lib/python3.7/dist-packages/sklearn/manifold/_t_sne.py:783: FutureWarning: The default initialization in TSNE will change from 'random' to 'pca' in 1.2.\n",
            "  FutureWarning,\n"
          ]
        }
      ]
    },
    {
      "cell_type": "code",
      "metadata": {
        "colab": {
          "base_uri": "https://localhost:8080/",
          "height": 917
        },
        "id": "c0pQ2ERZtpFN",
        "outputId": "bc75df27-c15b-453f-bfe6-c14e112aa1a0"
      },
      "source": [
        "#get colors if labels are not a number\n",
        "to_check = y_test\n",
        "try:\n",
        "  int(to_check[0])\n",
        "  colors = to_check[0]\n",
        "except:\n",
        "  colors = []\n",
        "  c_value = {}\n",
        "  n = 0\n",
        "  for label in to_check:\n",
        "    if label in c_value.keys():\n",
        "      colors.append(c_value[label])\n",
        "    else:\n",
        "      c_value[label] = n\n",
        "      n = n+1\n",
        "      colors.append(c_value[label])\n",
        "\n",
        "plt.figure(dpi=256)\n",
        "plt.scatter(x,y,c=colors, cmap=\"viridis\",s=1)\n",
        "plt.legend()\n",
        "plt.show()"
      ],
      "execution_count": null,
      "outputs": [
        {
          "output_type": "stream",
          "name": "stderr",
          "text": [
            "No handles with labels found to put in legend.\n"
          ]
        },
        {
          "output_type": "display_data",
          "data": {
            "image/png": "[encoded data removed]",
            "text/plain": [
              "<Figure size 1536x1024 with 1 Axes>"
            ]
          },
          "metadata": {
            "needs_background": "light"
          }
        }
      ]
    }
  ]
}